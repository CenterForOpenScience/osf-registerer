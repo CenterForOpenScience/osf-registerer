{
 "metadata": {
  "name": ""
 },
 "nbformat": 3,
 "nbformat_minor": 0,
 "worksheets": [
  {
   "cells": [
    {
     "cell_type": "markdown",
     "metadata": {},
     "source": [
      "**Given**: a \"document\" object consisting of a dict containing a list and primitives. Some of the primitive values are local IDs that must be updated in place to permanent IDs. For this example, the local IDs are `int`s and the permanent IDs are `uuid.UUID`s.\n",
      "\n",
      "**Yield**: the local IDs to some higher system. The higher system will determine the UUIDs.\n",
      "\n",
      "**Return**: the document with all the local IDs replaced by UUIDs.\n",
      "\n",
      "The challenge is to come up with a system where a generator yields the local ID and gets back the permanent ID. There are three ways you could do this:\n",
      "\n",
      "1. Get back a tuple of the corresponding UUIDs later. Use that tuple to modify the document all at once.\n",
      "2. Yield the local ID and a callback that will \"magically\" update the document in place. From the poit of view of the generator, the modification occurs during the execution of the `yield` statement.\n",
      "3. Use the bidirectional nature of generators. The `yield` statement is actually an expression that returns the resulting UUID. The generator can then modify the document explicitly."
     ]
    },
    {
     "cell_type": "markdown",
     "metadata": {},
     "source": [
      "## Working with UUIDs ##"
     ]
    },
    {
     "cell_type": "code",
     "collapsed": false,
     "input": [
      "import uuid"
     ],
     "language": "python",
     "metadata": {},
     "outputs": [],
     "prompt_number": 1
    },
    {
     "cell_type": "code",
     "collapsed": false,
     "input": [
      "# If the integer value of UUID is known, call the constructor directly.\n",
      "# This is good for testing, but the resulting object is not a \"true\" UUID.\n",
      "u0 = uuid.UUID(int=0)\n",
      "u0"
     ],
     "language": "python",
     "metadata": {},
     "outputs": [
      {
       "metadata": {},
       "output_type": "pyout",
       "prompt_number": 2,
       "text": [
        "UUID('00000000-0000-0000-0000-000000000000')"
       ]
      }
     ],
     "prompt_number": 2
    },
    {
     "cell_type": "code",
     "collapsed": false,
     "input": [
      "# Get a standard ascii represtation in both Python 2 & 3:\n",
      "str(u0).encode('ascii')"
     ],
     "language": "python",
     "metadata": {},
     "outputs": [
      {
       "metadata": {},
       "output_type": "pyout",
       "prompt_number": 3,
       "text": [
        "'00000000-0000-0000-0000-000000000000'"
       ]
      }
     ],
     "prompt_number": 3
    },
    {
     "cell_type": "markdown",
     "metadata": {},
     "source": [
      "## Our Prototype Document ##\n",
      "\n",
      "This document shows three kinds of links:\n",
      "\n",
      "1. The self-identity: `'id': 1`. The motivating example is the '_id' field in a MongoDB document. For most documents, the self-ID should be stripped before persisting. For top-level documents, a self-ID makes sense. In such cases, a new persistence blob is always created, even if the exact same document had been previously persisted. When this happens, the peristed documents would have different UUIDs.\n",
      "2. The children: `'children': [1, 2]`. The most common case is when a group of links are all contained within a list at a known location.\n",
      "3. One-off links: `'other': 3`. It is the responsibility of application logic to identify and resolve all such links."
     ]
    },
    {
     "cell_type": "code",
     "collapsed": false,
     "input": [
      "def make_doc():\n",
      "    result = {\n",
      "        'id': 0,\n",
      "        'name': 'foo',\n",
      "        'children': [1, 2],\n",
      "        'other': 3,\n",
      "    }\n",
      "    return result\n",
      "make_doc()"
     ],
     "language": "python",
     "metadata": {},
     "outputs": [
      {
       "metadata": {},
       "output_type": "pyout",
       "prompt_number": 4,
       "text": [
        "{'children': [1, 2], 'id': 0, 'name': 'foo', 'other': 3}"
       ]
      }
     ],
     "prompt_number": 4
    },
    {
     "cell_type": "code",
     "collapsed": false,
     "input": [
      "doc = make_doc()\n",
      "def explore(doc):\n",
      "    \"\"\"Application logic to traverse this particular document type\n",
      "    a generator must contain similar logic.\"\"\"\n",
      "    for child in doc['children']:\n",
      "        print child\n",
      "    print doc['other']\n",
      "explore(doc)"
     ],
     "language": "python",
     "metadata": {},
     "outputs": [
      {
       "output_type": "stream",
       "stream": "stdout",
       "text": [
        "1\n",
        "2\n",
        "3\n"
       ]
      }
     ],
     "prompt_number": 5
    },
    {
     "cell_type": "markdown",
     "metadata": {},
     "source": [
      "## The Simplest Generator ##\n",
      "\n",
      "This exposes all the links, but provides no mechanism to replace those links with UUIDs."
     ]
    },
    {
     "cell_type": "code",
     "collapsed": false,
     "input": [
      "doc = make_doc()\n",
      "\n",
      "def generate_1(doc):\n",
      "    for child in doc['children']:\n",
      "        yield child\n",
      "    yield doc['other']\n",
      "\n",
      "for id in generate_1(doc):\n",
      "    print id"
     ],
     "language": "python",
     "metadata": {},
     "outputs": [
      {
       "output_type": "stream",
       "stream": "stdout",
       "text": [
        "1\n",
        "2\n",
        "3\n"
       ]
      }
     ],
     "prompt_number": 6
    },
    {
     "cell_type": "markdown",
     "metadata": {},
     "source": [
      "## Showing Internal State ##"
     ]
    },
    {
     "cell_type": "code",
     "collapsed": false,
     "input": [
      "doc = make_doc()\n",
      "\n",
      "def generate_2(doc):\n",
      "    for index, child in enumerate(doc['children']):\n",
      "        print 'in: ', index, child\n",
      "        yield child\n",
      "    other = doc['other']\n",
      "    print 'in: ', '*', other\n",
      "    yield other\n",
      "\n",
      "for id in generate_2(doc):\n",
      "    print 'out:', id"
     ],
     "language": "python",
     "metadata": {},
     "outputs": [
      {
       "output_type": "stream",
       "stream": "stdout",
       "text": [
        "in:  0 1\n",
        "out: 1\n",
        "in:  1 2\n",
        "out: 2\n",
        "in:  * 3\n",
        "out: 3\n"
       ]
      }
     ],
     "prompt_number": 7
    },
    {
     "cell_type": "markdown",
     "metadata": {},
     "source": [
      "## A Generator that \"Listens\" ##\n",
      "\n",
      "http://legacy.python.org/dev/peps/pep-0342/\n",
      "\n",
      "A generator can receive information by treating `yield` as an expression: https://docs.python.org/2.7/reference/expressions.html#yield-expressions\n",
      "\n",
      "In this case, the generator is listening, but `for` loops cannot send. Thus the generator receives `None` each time."
     ]
    },
    {
     "cell_type": "code",
     "collapsed": false,
     "input": [
      "doc = make_doc()\n",
      "\n",
      "def generate_3(doc):\n",
      "    for index, child in enumerate(doc['children']):\n",
      "        u = yield child\n",
      "        print 'in: ', index, child, u\n",
      "    other = doc['other']\n",
      "    u = yield other\n",
      "    print 'in: ', '*', other, u\n",
      "\n",
      "for id in generate_3(doc):\n",
      "    print 'out:', id"
     ],
     "language": "python",
     "metadata": {},
     "outputs": [
      {
       "output_type": "stream",
       "stream": "stdout",
       "text": [
        "out: 1\n",
        "in:  0 1 None\n",
        "out: 2\n",
        "in:  1 2 None\n",
        "out: 3\n",
        "in:  * 3 None\n"
       ]
      }
     ],
     "prompt_number": 8
    },
    {
     "cell_type": "markdown",
     "metadata": {},
     "source": [
      "## Sending UUIDs Back to the Generator ##\n",
      "\n",
      "In this case, we are using the same generator is the previous example. This time the client code is sending UUIDs back to the generator. Since a `for` loop cannot send, we use a `while` loop combined with a `try` block. Since a generator cannot receive anything until it has yielded, the first step is to call `next(gen)`. After that, each call to `gen.send(u)` will pass a UUID back into the generator and receive the next ID (if any). Eventually the generator will receive a UUID, but have no more IDs to send. When the generator exits, the client will receive a `StopIteration` exception.\n",
      "\n",
      "The sequence of events looks like this:\n",
      "\n",
      "* Client calls `next(gen)`.\n",
      "* Generator executes up to the first `yield`.\n",
      "* Client receives the result into `id = ...`. If the generator had exited without yielding anything, then `id` would be equal to `None` and the `while` loop would never execute.\n",
      "* Inside the loop, the client generates a UUID, passes the UUID into the generator, and attempts to get the next ID."
     ]
    },
    {
     "cell_type": "code",
     "collapsed": false,
     "input": [
      "doc = make_doc()\n",
      "\n",
      "# Code that drives the generator\n",
      "gen = generate_3(doc)  # Same generator as last time\n",
      "id = next(gen, None)\n",
      "while id is not None:\n",
      "    u = uuid.UUID(int=id)\n",
      "    try:\n",
      "        id = gen.send(u)\n",
      "    except StopIteration:\n",
      "        id = None"
     ],
     "language": "python",
     "metadata": {},
     "outputs": [
      {
       "output_type": "stream",
       "stream": "stdout",
       "text": [
        "in:  0 1 00000000-0000-0000-0000-000000000001\n",
        "in:  1 2 00000000-0000-0000-0000-000000000002\n",
        "in:  * 3 00000000-0000-0000-0000-000000000003\n"
       ]
      }
     ],
     "prompt_number": 9
    },
    {
     "cell_type": "markdown",
     "metadata": {},
     "source": [
      "## Modifying the Document Inside the Bidirectional Generator ##"
     ]
    },
    {
     "cell_type": "code",
     "collapsed": false,
     "input": [
      "doc = make_doc()\n",
      "\n",
      "def generate_4(doc):\n",
      "    for index, child in enumerate(doc['children']):\n",
      "        u = yield child\n",
      "        print 'in: ', child, u\n",
      "        doc['children'][index] = str(u)\n",
      "    other = doc['other']\n",
      "    u = yield other\n",
      "    print 'in: ', other, u\n",
      "    doc['other'] = str(u)\n",
      "    del doc['id']  # not a self-identifying document\n",
      "\n",
      "# Code that drives the generator\n",
      "gen = generate_4(doc)\n",
      "id = next(gen, None)\n",
      "while id is not None:\n",
      "    u = uuid.UUID(int=id)\n",
      "    try:\n",
      "        id = gen.send(u)\n",
      "    except StopIteration:\n",
      "        id = None\n",
      "\n",
      "# Resulting transformed doc\n",
      "doc"
     ],
     "language": "python",
     "metadata": {},
     "outputs": [
      {
       "output_type": "stream",
       "stream": "stdout",
       "text": [
        "in:  1 00000000-0000-0000-0000-000000000001\n",
        "in:  2 00000000-0000-0000-0000-000000000002\n",
        "in:  3 00000000-0000-0000-0000-000000000003\n"
       ]
      },
      {
       "metadata": {},
       "output_type": "pyout",
       "prompt_number": 10,
       "text": [
        "{'children': ['00000000-0000-0000-0000-000000000001',\n",
        "  '00000000-0000-0000-0000-000000000002'],\n",
        " 'name': 'foo',\n",
        " 'other': '00000000-0000-0000-0000-000000000003'}"
       ]
      }
     ],
     "prompt_number": 10
    }
   ],
   "metadata": {}
  }
 ]
}